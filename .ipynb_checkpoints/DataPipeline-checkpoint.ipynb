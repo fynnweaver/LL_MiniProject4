{
 "cells": [
  {
   "cell_type": "markdown",
   "id": "3b42c09e-0f94-42c5-bf38-e8a9a60caa9a",
   "metadata": {},
   "source": [
    "|Variable| Description|\n",
    "|: ------------- |:-------------|\n",
    "|Loan_ID| Unique Loan ID|\n",
    "|Gender| Male/ Female|\n",
    "|Married| Applicant married (Y/N)|\n",
    "|Dependents| Number of dependents|\n",
    "|Education| Applicant Education (Graduate/ Under Graduate)|\n",
    "|Self_Employed| Self employed (Y/N)|\n",
    "|ApplicantIncome| Applicant income|\n",
    "|CoapplicantIncome| Coapplicant income|\n",
    "|LoanAmount| Loan amount in thousands|\n",
    "|Loan_Amount_Term| Term of loan in months|\n",
    "|Credit_History| credit history meets guidelines|\n",
    "|Property_Area| Urban/ Semi Urban/ Rural|\n",
    "|Loan_Status| Loan approved (Y/N)\n"
   ]
  },
  {
   "cell_type": "markdown",
   "id": "95cb9350-9aba-4163-9c59-032ae7962dd3",
   "metadata": {
    "tags": []
   },
   "source": [
    "## Set up"
   ]
  },
  {
   "cell_type": "code",
   "execution_count": 1,
   "id": "1cc9861d-9a14-4cc9-ba81-565c05a17bae",
   "metadata": {},
   "outputs": [],
   "source": [
    "#import packages\n",
    "import pandas as pd\n",
    "import numpy as np\n",
    "from matplotlib import pyplot as plt\n",
    "\n",
    "import copy as cp\n",
    "\n",
    "from sklearn.model_selection import train_test_split"
   ]
  },
  {
   "cell_type": "code",
   "execution_count": 2,
   "id": "c4146ea7-229c-4fe1-bc7e-a62c34b82e31",
   "metadata": {},
   "outputs": [
    {
     "data": {
      "text/html": [
       "<div>\n",
       "<style scoped>\n",
       "    .dataframe tbody tr th:only-of-type {\n",
       "        vertical-align: middle;\n",
       "    }\n",
       "\n",
       "    .dataframe tbody tr th {\n",
       "        vertical-align: top;\n",
       "    }\n",
       "\n",
       "    .dataframe thead th {\n",
       "        text-align: right;\n",
       "    }\n",
       "</style>\n",
       "<table border=\"1\" class=\"dataframe\">\n",
       "  <thead>\n",
       "    <tr style=\"text-align: right;\">\n",
       "      <th></th>\n",
       "      <th>Loan_ID</th>\n",
       "      <th>Gender</th>\n",
       "      <th>Married</th>\n",
       "      <th>Dependents</th>\n",
       "      <th>Education</th>\n",
       "      <th>Self_Employed</th>\n",
       "      <th>ApplicantIncome</th>\n",
       "      <th>CoapplicantIncome</th>\n",
       "      <th>LoanAmount</th>\n",
       "      <th>Loan_Amount_Term</th>\n",
       "      <th>Credit_History</th>\n",
       "      <th>Property_Area</th>\n",
       "      <th>Loan_Status</th>\n",
       "    </tr>\n",
       "  </thead>\n",
       "  <tbody>\n",
       "    <tr>\n",
       "      <th>0</th>\n",
       "      <td>LP001002</td>\n",
       "      <td>Male</td>\n",
       "      <td>No</td>\n",
       "      <td>0</td>\n",
       "      <td>Graduate</td>\n",
       "      <td>No</td>\n",
       "      <td>5849</td>\n",
       "      <td>0.0</td>\n",
       "      <td>NaN</td>\n",
       "      <td>360.0</td>\n",
       "      <td>1.0</td>\n",
       "      <td>Urban</td>\n",
       "      <td>Y</td>\n",
       "    </tr>\n",
       "    <tr>\n",
       "      <th>1</th>\n",
       "      <td>LP001003</td>\n",
       "      <td>Male</td>\n",
       "      <td>Yes</td>\n",
       "      <td>1</td>\n",
       "      <td>Graduate</td>\n",
       "      <td>No</td>\n",
       "      <td>4583</td>\n",
       "      <td>1508.0</td>\n",
       "      <td>128.0</td>\n",
       "      <td>360.0</td>\n",
       "      <td>1.0</td>\n",
       "      <td>Rural</td>\n",
       "      <td>N</td>\n",
       "    </tr>\n",
       "    <tr>\n",
       "      <th>2</th>\n",
       "      <td>LP001005</td>\n",
       "      <td>Male</td>\n",
       "      <td>Yes</td>\n",
       "      <td>0</td>\n",
       "      <td>Graduate</td>\n",
       "      <td>Yes</td>\n",
       "      <td>3000</td>\n",
       "      <td>0.0</td>\n",
       "      <td>66.0</td>\n",
       "      <td>360.0</td>\n",
       "      <td>1.0</td>\n",
       "      <td>Urban</td>\n",
       "      <td>Y</td>\n",
       "    </tr>\n",
       "    <tr>\n",
       "      <th>3</th>\n",
       "      <td>LP001006</td>\n",
       "      <td>Male</td>\n",
       "      <td>Yes</td>\n",
       "      <td>0</td>\n",
       "      <td>Not Graduate</td>\n",
       "      <td>No</td>\n",
       "      <td>2583</td>\n",
       "      <td>2358.0</td>\n",
       "      <td>120.0</td>\n",
       "      <td>360.0</td>\n",
       "      <td>1.0</td>\n",
       "      <td>Urban</td>\n",
       "      <td>Y</td>\n",
       "    </tr>\n",
       "    <tr>\n",
       "      <th>4</th>\n",
       "      <td>LP001008</td>\n",
       "      <td>Male</td>\n",
       "      <td>No</td>\n",
       "      <td>0</td>\n",
       "      <td>Graduate</td>\n",
       "      <td>No</td>\n",
       "      <td>6000</td>\n",
       "      <td>0.0</td>\n",
       "      <td>141.0</td>\n",
       "      <td>360.0</td>\n",
       "      <td>1.0</td>\n",
       "      <td>Urban</td>\n",
       "      <td>Y</td>\n",
       "    </tr>\n",
       "  </tbody>\n",
       "</table>\n",
       "</div>"
      ],
      "text/plain": [
       "    Loan_ID Gender Married Dependents     Education Self_Employed  \\\n",
       "0  LP001002   Male      No          0      Graduate            No   \n",
       "1  LP001003   Male     Yes          1      Graduate            No   \n",
       "2  LP001005   Male     Yes          0      Graduate           Yes   \n",
       "3  LP001006   Male     Yes          0  Not Graduate            No   \n",
       "4  LP001008   Male      No          0      Graduate            No   \n",
       "\n",
       "   ApplicantIncome  CoapplicantIncome  LoanAmount  Loan_Amount_Term  \\\n",
       "0             5849                0.0         NaN             360.0   \n",
       "1             4583             1508.0       128.0             360.0   \n",
       "2             3000                0.0        66.0             360.0   \n",
       "3             2583             2358.0       120.0             360.0   \n",
       "4             6000                0.0       141.0             360.0   \n",
       "\n",
       "   Credit_History Property_Area Loan_Status  \n",
       "0             1.0         Urban           Y  \n",
       "1             1.0         Rural           N  \n",
       "2             1.0         Urban           Y  \n",
       "3             1.0         Urban           Y  \n",
       "4             1.0         Urban           Y  "
      ]
     },
     "execution_count": 2,
     "metadata": {},
     "output_type": "execute_result"
    }
   ],
   "source": [
    "#load data\n",
    "df_raw = pd.read_csv(\"raw_data.csv\") \n",
    "df = cp.deepcopy(df_raw)\n",
    "df.head()"
   ]
  },
  {
   "cell_type": "markdown",
   "id": "c3de57f5-cd18-4f06-baea-10319a160d5f",
   "metadata": {},
   "source": [
    "## Data Exploration"
   ]
  },
  {
   "cell_type": "code",
   "execution_count": 3,
   "id": "4c207359-2100-4cf7-bcf6-d131df308901",
   "metadata": {},
   "outputs": [
    {
     "data": {
      "text/html": [
       "<div>\n",
       "<style scoped>\n",
       "    .dataframe tbody tr th:only-of-type {\n",
       "        vertical-align: middle;\n",
       "    }\n",
       "\n",
       "    .dataframe tbody tr th {\n",
       "        vertical-align: top;\n",
       "    }\n",
       "\n",
       "    .dataframe thead th {\n",
       "        text-align: right;\n",
       "    }\n",
       "</style>\n",
       "<table border=\"1\" class=\"dataframe\">\n",
       "  <thead>\n",
       "    <tr style=\"text-align: right;\">\n",
       "      <th></th>\n",
       "      <th>ApplicantIncome</th>\n",
       "      <th>CoapplicantIncome</th>\n",
       "      <th>LoanAmount</th>\n",
       "      <th>Loan_Amount_Term</th>\n",
       "      <th>Credit_History</th>\n",
       "    </tr>\n",
       "  </thead>\n",
       "  <tbody>\n",
       "    <tr>\n",
       "      <th>count</th>\n",
       "      <td>614.000000</td>\n",
       "      <td>614.000000</td>\n",
       "      <td>592.000000</td>\n",
       "      <td>600.00000</td>\n",
       "      <td>564.000000</td>\n",
       "    </tr>\n",
       "    <tr>\n",
       "      <th>mean</th>\n",
       "      <td>5403.459283</td>\n",
       "      <td>1621.245798</td>\n",
       "      <td>146.412162</td>\n",
       "      <td>342.00000</td>\n",
       "      <td>0.842199</td>\n",
       "    </tr>\n",
       "    <tr>\n",
       "      <th>std</th>\n",
       "      <td>6109.041673</td>\n",
       "      <td>2926.248369</td>\n",
       "      <td>85.587325</td>\n",
       "      <td>65.12041</td>\n",
       "      <td>0.364878</td>\n",
       "    </tr>\n",
       "    <tr>\n",
       "      <th>min</th>\n",
       "      <td>150.000000</td>\n",
       "      <td>0.000000</td>\n",
       "      <td>9.000000</td>\n",
       "      <td>12.00000</td>\n",
       "      <td>0.000000</td>\n",
       "    </tr>\n",
       "    <tr>\n",
       "      <th>25%</th>\n",
       "      <td>2877.500000</td>\n",
       "      <td>0.000000</td>\n",
       "      <td>100.000000</td>\n",
       "      <td>360.00000</td>\n",
       "      <td>1.000000</td>\n",
       "    </tr>\n",
       "    <tr>\n",
       "      <th>50%</th>\n",
       "      <td>3812.500000</td>\n",
       "      <td>1188.500000</td>\n",
       "      <td>128.000000</td>\n",
       "      <td>360.00000</td>\n",
       "      <td>1.000000</td>\n",
       "    </tr>\n",
       "    <tr>\n",
       "      <th>75%</th>\n",
       "      <td>5795.000000</td>\n",
       "      <td>2297.250000</td>\n",
       "      <td>168.000000</td>\n",
       "      <td>360.00000</td>\n",
       "      <td>1.000000</td>\n",
       "    </tr>\n",
       "    <tr>\n",
       "      <th>max</th>\n",
       "      <td>81000.000000</td>\n",
       "      <td>41667.000000</td>\n",
       "      <td>700.000000</td>\n",
       "      <td>480.00000</td>\n",
       "      <td>1.000000</td>\n",
       "    </tr>\n",
       "  </tbody>\n",
       "</table>\n",
       "</div>"
      ],
      "text/plain": [
       "       ApplicantIncome  CoapplicantIncome  LoanAmount  Loan_Amount_Term  \\\n",
       "count       614.000000         614.000000  592.000000         600.00000   \n",
       "mean       5403.459283        1621.245798  146.412162         342.00000   \n",
       "std        6109.041673        2926.248369   85.587325          65.12041   \n",
       "min         150.000000           0.000000    9.000000          12.00000   \n",
       "25%        2877.500000           0.000000  100.000000         360.00000   \n",
       "50%        3812.500000        1188.500000  128.000000         360.00000   \n",
       "75%        5795.000000        2297.250000  168.000000         360.00000   \n",
       "max       81000.000000       41667.000000  700.000000         480.00000   \n",
       "\n",
       "       Credit_History  \n",
       "count      564.000000  \n",
       "mean         0.842199  \n",
       "std          0.364878  \n",
       "min          0.000000  \n",
       "25%          1.000000  \n",
       "50%          1.000000  \n",
       "75%          1.000000  \n",
       "max          1.000000  "
      ]
     },
     "execution_count": 3,
     "metadata": {},
     "output_type": "execute_result"
    }
   ],
   "source": [
    "df.describe()"
   ]
  },
  {
   "cell_type": "code",
   "execution_count": 4,
   "id": "39eb0f15-c03e-4e80-885d-5025fcdbf9b5",
   "metadata": {},
   "outputs": [
    {
     "name": "stdout",
     "output_type": "stream",
     "text": [
      "Credit History \n",
      "don't have: 89 do have:475\n"
     ]
    }
   ],
   "source": [
    "#most people have credit history\n",
    "print(f\"Credit History \\ndon't have: {len(df.loc[df['Credit_History'] == 0])} do have:{len(df.loc[df['Credit_History'] == 1])}\")"
   ]
  },
  {
   "cell_type": "code",
   "execution_count": 5,
   "id": "fc495d78-40c0-4000-bdd5-d2739e75b057",
   "metadata": {},
   "outputs": [
    {
     "name": "stdout",
     "output_type": "stream",
     "text": [
      "Gender: ['Male' 'Female' nan] \n",
      " Frequency: [489 112]\n",
      "Married: ['No' 'Yes' nan] \n",
      " Frequency: [398 213]\n",
      "Dependents: ['0' '1' '2' '3+' nan] \n",
      " Frequency: [345 102 101  51]\n",
      "Education: ['Graduate' 'Not Graduate'] \n",
      " Frequency: [480 134]\n",
      "Self_Employed: ['No' 'Yes' nan] \n",
      " Frequency: [500  82]\n",
      "Property_Area: ['Urban' 'Rural' 'Semiurban'] \n",
      " Frequency: [233 202 179]\n",
      "Loan_Status: ['Y' 'N'] \n",
      " Frequency: [422 192]\n"
     ]
    }
   ],
   "source": [
    "cat_cols = df.columns[df.dtypes == 'object']\n",
    "\n",
    "for cat_col in cat_cols[1:]:\n",
    "    print(f\"{cat_col}: {df[cat_col].unique()} \\n Frequency: {df.value_counts(cat_col).values}\")"
   ]
  },
  {
   "cell_type": "markdown",
   "id": "e21b4c41-b510-4bb0-988e-704fd7d61795",
   "metadata": {},
   "source": [
    "**Notes**: A lot more men than women. Mostly no kids or 1-2 kids. A lot more graduates, very few self-employed. Almost all have a credit history. Most loans in this dataset are accepted (almost 4:1 ratio)"
   ]
  },
  {
   "cell_type": "code",
   "execution_count": 6,
   "id": "76bbecbf-65b5-4935-9d78-cd7caf1a69a6",
   "metadata": {},
   "outputs": [
    {
     "data": {
      "image/png": "[encoded data removed]",
      "text/plain": [
       "<Figure size 1080x864 with 6 Axes>"
      ]
     },
     "metadata": {
      "needs_background": "light"
     },
     "output_type": "display_data"
    }
   ],
   "source": [
    "#numerical distribution analysis\n",
    "fig, axes = plt.subplots(2, 3, figsize = (15, 12))\n",
    "num_cols = df.columns[df.dtypes != 'object']\n",
    "num_df = df[num_cols]\n",
    "\n",
    "for i, ax in enumerate(axes.flat[:5]):\n",
    "    ax.hist(num_df.iloc[:,i])\n",
    "    ax.set_title(num_df.columns[i])"
   ]
  },
  {
   "cell_type": "markdown",
   "id": "f1f853d9-18d2-4c63-a50a-6f8bc0830939",
   "metadata": {},
   "source": [
    "## Data Transformation"
   ]
  },
  {
   "cell_type": "markdown",
   "id": "f1bd4707-52a1-4586-8e94-fb9db911dea3",
   "metadata": {
    "tags": []
   },
   "source": [
    "### Replace Nan"
   ]
  },
  {
   "cell_type": "code",
   "execution_count": 7,
   "id": "a5afa02e-c4bf-4015-b0a0-abc1592c13e7",
   "metadata": {},
   "outputs": [
    {
     "name": "stdout",
     "output_type": "stream",
     "text": [
      "Loan_ID              0.000000\n",
      "Gender               2.117264\n",
      "Married              0.488599\n",
      "Dependents           2.442997\n",
      "Education            0.000000\n",
      "Self_Employed        5.211726\n",
      "ApplicantIncome      0.000000\n",
      "CoapplicantIncome    0.000000\n",
      "LoanAmount           3.583062\n",
      "Loan_Amount_Term     2.280130\n",
      "Credit_History       8.143322\n",
      "Property_Area        0.000000\n",
      "Loan_Status          0.000000\n",
      "dtype: float64\n"
     ]
    }
   ],
   "source": [
    "#missing values\n",
    "print(df.isnull().sum() * 100 / len(df))\n",
    "\n",
    "#save missing value columns\n",
    "null_col = df.columns[df.isnull().any()]"
   ]
  },
  {
   "cell_type": "code",
   "execution_count": 8,
   "id": "f49db758-93ce-48fd-804f-65c45b43ca6c",
   "metadata": {},
   "outputs": [
    {
     "name": "stdout",
     "output_type": "stream",
     "text": [
      "Index(['LoanAmount', 'Loan_Amount_Term', 'Credit_History'], dtype='object')\n",
      "Index(['Gender', 'Married', 'Dependents', 'Self_Employed'], dtype='object')\n"
     ]
    },
    {
     "name": "stderr",
     "output_type": "stream",
     "text": [
      "/var/folders/r6/fys6jqz12zg0mt2n15r5gw3m0000gq/T/ipykernel_7031/1012211590.py:1: FutureWarning: Index.__and__ operating as a set operation is deprecated, in the future this will be a logical operation matching Series.__and__.  Use index.intersection(other) instead\n",
      "  print(num_cols & null_col) #impute metrics: mean, most_frequent, '1'\n",
      "/var/folders/r6/fys6jqz12zg0mt2n15r5gw3m0000gq/T/ipykernel_7031/1012211590.py:2: FutureWarning: Index.__and__ operating as a set operation is deprecated, in the future this will be a logical operation matching Series.__and__.  Use index.intersection(other) instead\n",
      "  print(cat_cols & null_col) #impute metrics: 'M', 'No', '0', 'No'\n"
     ]
    }
   ],
   "source": [
    "print(num_cols & null_col) #impute metrics: mean, most_frequent, '1'\n",
    "print(cat_cols & null_col) #impute metrics: 'M', 'No', '0', 'No'"
   ]
  },
  {
   "cell_type": "code",
   "execution_count": 9,
   "id": "5ef100c7-d784-4266-a1df-8772d00bb67a",
   "metadata": {},
   "outputs": [
    {
     "data": {
      "text/plain": [
       "146.41216216216216"
      ]
     },
     "execution_count": 9,
     "metadata": {},
     "output_type": "execute_result"
    }
   ],
   "source": [
    "df[null_col[4]].mean()"
   ]
  },
  {
   "cell_type": "code",
   "execution_count": 10,
   "id": "90dc6f09-868f-44da-9317-8ce17c49f442",
   "metadata": {},
   "outputs": [],
   "source": [
    "#replace nans\n",
    "replace_value = ['Male', 'No', 0, 'No', 146.412162, 360, 1] \n",
    "\n",
    "for i, col in enumerate(null_col):\n",
    "    df[col] = df[col].fillna(replace_value[i])"
   ]
  },
  {
   "cell_type": "markdown",
   "id": "e54f3528-95d0-4b59-991d-5215f6730c9f",
   "metadata": {},
   "source": [
    "### Numerical (log) "
   ]
  },
  {
   "cell_type": "code",
   "execution_count": 11,
   "id": "58c62546-f80c-411d-8056-9b71414162c1",
   "metadata": {},
   "outputs": [
    {
     "data": {
      "text/plain": [
       "(array([  7.,  53., 186., 205.,  91.,  41.,  20.,   4.,   5.,   2.]),\n",
       " array([ 7.27378632,  7.67662813,  8.07946994,  8.48231175,  8.88515356,\n",
       "         9.28799538,  9.69083719, 10.093679  , 10.49652081, 10.89936262,\n",
       "        11.30220443]),\n",
       " <BarContainer object of 10 artists>)"
      ]
     },
     "execution_count": 11,
     "metadata": {},
     "output_type": "execute_result"
    },
    {
     "data": {
      "image/png": "[encoded data removed]",
      "text/plain": [
       "<Figure size 432x288 with 2 Axes>"
      ]
     },
     "metadata": {
      "needs_background": "light"
     },
     "output_type": "display_data"
    }
   ],
   "source": [
    "#log loan amount and compined applicant/coapplicant income\n",
    "log_amount = np.log(df['LoanAmount'])\n",
    "log_income = np.log(df['ApplicantIncome'] + df['CoapplicantIncome'])\n",
    "\n",
    "#put into df and drop former columns\n",
    "df['LogAmount'] = log_amount\n",
    "df['LogIncomes'] = log_income\n",
    "df = df.drop(['LoanAmount', 'ApplicantIncome', 'CoapplicantIncome'], axis = 1)\n",
    "\n",
    "#plot to see how it looks now\n",
    "fig, axes = plt.subplots(1, 2)\n",
    "\n",
    "axes[0].hist(log_amount)\n",
    "axes[1].hist(log_income )"
   ]
  },
  {
   "cell_type": "markdown",
   "id": "bb3bfdb4-af94-47e7-b950-c8bb59522113",
   "metadata": {},
   "source": [
    "### Categorical Transformation"
   ]
  },
  {
   "cell_type": "code",
   "execution_count": 12,
   "id": "b963d954-a28a-417f-b429-993d9712af7d",
   "metadata": {},
   "outputs": [
    {
     "name": "stdout",
     "output_type": "stream",
     "text": [
      "Gender: ['Male' 'Female']\n",
      "Married: ['No' 'Yes']\n",
      "Dependents: ['0' '1' '2' '3+' 0]\n",
      "Education: ['Graduate' 'Not Graduate']\n",
      "Self_Employed: ['No' 'Yes']\n",
      "Property_Area: ['Urban' 'Rural' 'Semiurban']\n",
      "Loan_Status: ['Y' 'N']\n"
     ]
    }
   ],
   "source": [
    "#as a reminder these are the cat variables\n",
    "for cat_col in cat_cols[1:]:\n",
    "    print(f\"{cat_col}: {df[cat_col].unique()}\")"
   ]
  },
  {
   "cell_type": "code",
   "execution_count": 13,
   "id": "133ec208-d8d1-4ad7-a352-dce709f5b2cc",
   "metadata": {},
   "outputs": [],
   "source": [
    "#most of them are binary or non-ordinal, so convert via dummy\n",
    "for_dummy = ['Gender', 'Married', 'Education', 'Self_Employed', 'Property_Area', 'Loan_Status']\n",
    "\n",
    "#create columns with dummies\n",
    "dummy = pd.get_dummies(df[for_dummy], drop_first= True)\n",
    "df = pd.concat([df, dummy], axis =1)"
   ]
  },
  {
   "cell_type": "code",
   "execution_count": 14,
   "id": "877c2177-b72c-4f82-94aa-cbfb993a1a39",
   "metadata": {},
   "outputs": [],
   "source": [
    "#drop all former dummy variables and id column\n",
    "df = df.drop(['Loan_ID', 'Gender', 'Married', 'Education', 'Self_Employed', 'Property_Area', 'Loan_Status'], axis = 1)"
   ]
  },
  {
   "cell_type": "code",
   "execution_count": 15,
   "id": "1d038408-6f02-45ee-b8b4-add2b725b9f1",
   "metadata": {},
   "outputs": [],
   "source": [
    "#fix last catogirical variable: Dependents\n",
    "df['Dependents'] = df['Dependents'].replace({'3+': 3})\n",
    "\n",
    "#convert into numeric\n",
    "df['Dependents'] = df['Dependents'].apply(pd.to_numeric, errors='coerce')"
   ]
  },
  {
   "cell_type": "code",
   "execution_count": 16,
   "id": "a723b847-9dd4-4a63-9d70-835ef0733b6b",
   "metadata": {},
   "outputs": [
    {
     "name": "stdout",
     "output_type": "stream",
     "text": [
      "<class 'pandas.core.frame.DataFrame'>\n",
      "RangeIndex: 614 entries, 0 to 613\n",
      "Data columns (total 12 columns):\n",
      " #   Column                   Non-Null Count  Dtype  \n",
      "---  ------                   --------------  -----  \n",
      " 0   Dependents               614 non-null    int64  \n",
      " 1   Loan_Amount_Term         614 non-null    float64\n",
      " 2   Credit_History           614 non-null    float64\n",
      " 3   LogAmount                614 non-null    float64\n",
      " 4   LogIncomes               614 non-null    float64\n",
      " 5   Gender_Male              614 non-null    uint8  \n",
      " 6   Married_Yes              614 non-null    uint8  \n",
      " 7   Education_Not Graduate   614 non-null    uint8  \n",
      " 8   Self_Employed_Yes        614 non-null    uint8  \n",
      " 9   Property_Area_Semiurban  614 non-null    uint8  \n",
      " 10  Property_Area_Urban      614 non-null    uint8  \n",
      " 11  Loan_Status_Y            614 non-null    uint8  \n",
      "dtypes: float64(4), int64(1), uint8(7)\n",
      "memory usage: 28.3 KB\n"
     ]
    }
   ],
   "source": [
    "#should have no nulls and only numeric dtypes\n",
    "df.info()"
   ]
  },
  {
   "cell_type": "markdown",
   "id": "577300bf-0851-4903-a637-7bcf40aa571c",
   "metadata": {},
   "source": [
    "### Data Split \n",
    "\n",
    "(Cross fold?)"
   ]
  },
  {
   "cell_type": "code",
   "execution_count": 17,
   "id": "283c60f0-c50f-4772-8592-bab018c4d5a0",
   "metadata": {},
   "outputs": [
    {
     "data": {
      "text/html": [
       "<div>\n",
       "<style scoped>\n",
       "    .dataframe tbody tr th:only-of-type {\n",
       "        vertical-align: middle;\n",
       "    }\n",
       "\n",
       "    .dataframe tbody tr th {\n",
       "        vertical-align: top;\n",
       "    }\n",
       "\n",
       "    .dataframe thead th {\n",
       "        text-align: right;\n",
       "    }\n",
       "</style>\n",
       "<table border=\"1\" class=\"dataframe\">\n",
       "  <thead>\n",
       "    <tr style=\"text-align: right;\">\n",
       "      <th></th>\n",
       "      <th>Loan_ID</th>\n",
       "      <th>Gender</th>\n",
       "      <th>Married</th>\n",
       "      <th>Dependents</th>\n",
       "      <th>Education</th>\n",
       "      <th>Self_Employed</th>\n",
       "      <th>ApplicantIncome</th>\n",
       "      <th>CoapplicantIncome</th>\n",
       "      <th>LoanAmount</th>\n",
       "      <th>Loan_Amount_Term</th>\n",
       "      <th>Credit_History</th>\n",
       "      <th>Property_Area</th>\n",
       "    </tr>\n",
       "  </thead>\n",
       "  <tbody>\n",
       "    <tr>\n",
       "      <th>0</th>\n",
       "      <td>LP001002</td>\n",
       "      <td>Male</td>\n",
       "      <td>No</td>\n",
       "      <td>0</td>\n",
       "      <td>Graduate</td>\n",
       "      <td>No</td>\n",
       "      <td>5849</td>\n",
       "      <td>0.0</td>\n",
       "      <td>NaN</td>\n",
       "      <td>360.0</td>\n",
       "      <td>1.0</td>\n",
       "      <td>Urban</td>\n",
       "    </tr>\n",
       "    <tr>\n",
       "      <th>1</th>\n",
       "      <td>LP001003</td>\n",
       "      <td>Male</td>\n",
       "      <td>Yes</td>\n",
       "      <td>1</td>\n",
       "      <td>Graduate</td>\n",
       "      <td>No</td>\n",
       "      <td>4583</td>\n",
       "      <td>1508.0</td>\n",
       "      <td>128.0</td>\n",
       "      <td>360.0</td>\n",
       "      <td>1.0</td>\n",
       "      <td>Rural</td>\n",
       "    </tr>\n",
       "    <tr>\n",
       "      <th>2</th>\n",
       "      <td>LP001005</td>\n",
       "      <td>Male</td>\n",
       "      <td>Yes</td>\n",
       "      <td>0</td>\n",
       "      <td>Graduate</td>\n",
       "      <td>Yes</td>\n",
       "      <td>3000</td>\n",
       "      <td>0.0</td>\n",
       "      <td>66.0</td>\n",
       "      <td>360.0</td>\n",
       "      <td>1.0</td>\n",
       "      <td>Urban</td>\n",
       "    </tr>\n",
       "    <tr>\n",
       "      <th>3</th>\n",
       "      <td>LP001006</td>\n",
       "      <td>Male</td>\n",
       "      <td>Yes</td>\n",
       "      <td>0</td>\n",
       "      <td>Not Graduate</td>\n",
       "      <td>No</td>\n",
       "      <td>2583</td>\n",
       "      <td>2358.0</td>\n",
       "      <td>120.0</td>\n",
       "      <td>360.0</td>\n",
       "      <td>1.0</td>\n",
       "      <td>Urban</td>\n",
       "    </tr>\n",
       "    <tr>\n",
       "      <th>4</th>\n",
       "      <td>LP001008</td>\n",
       "      <td>Male</td>\n",
       "      <td>No</td>\n",
       "      <td>0</td>\n",
       "      <td>Graduate</td>\n",
       "      <td>No</td>\n",
       "      <td>6000</td>\n",
       "      <td>0.0</td>\n",
       "      <td>141.0</td>\n",
       "      <td>360.0</td>\n",
       "      <td>1.0</td>\n",
       "      <td>Urban</td>\n",
       "    </tr>\n",
       "  </tbody>\n",
       "</table>\n",
       "</div>"
      ],
      "text/plain": [
       "    Loan_ID Gender Married Dependents     Education Self_Employed  \\\n",
       "0  LP001002   Male      No          0      Graduate            No   \n",
       "1  LP001003   Male     Yes          1      Graduate            No   \n",
       "2  LP001005   Male     Yes          0      Graduate           Yes   \n",
       "3  LP001006   Male     Yes          0  Not Graduate            No   \n",
       "4  LP001008   Male      No          0      Graduate            No   \n",
       "\n",
       "   ApplicantIncome  CoapplicantIncome  LoanAmount  Loan_Amount_Term  \\\n",
       "0             5849                0.0         NaN             360.0   \n",
       "1             4583             1508.0       128.0             360.0   \n",
       "2             3000                0.0        66.0             360.0   \n",
       "3             2583             2358.0       120.0             360.0   \n",
       "4             6000                0.0       141.0             360.0   \n",
       "\n",
       "   Credit_History Property_Area  \n",
       "0             1.0         Urban  \n",
       "1             1.0         Rural  \n",
       "2             1.0         Urban  \n",
       "3             1.0         Urban  \n",
       "4             1.0         Urban  "
      ]
     },
     "execution_count": 17,
     "metadata": {},
     "output_type": "execute_result"
    }
   ],
   "source": [
    "#create a raw X with a numerical y\n",
    "y = df['Loan_Status_Y']\n",
    "X = df_raw.drop(['Loan_Status'], axis=1)\n",
    "\n",
    "X.head()"
   ]
  },
  {
   "cell_type": "code",
   "execution_count": 18,
   "id": "eaaaa84d-ab09-47c0-b32a-502a9eb3b6b9",
   "metadata": {},
   "outputs": [],
   "source": [
    "#split\n",
    "X_train, X_test, y_train, y_test = train_test_split(X, y, test_size=0.2, random_state=1)"
   ]
  },
  {
   "cell_type": "markdown",
   "id": "051b0020-1473-4c06-a75a-35df717b5003",
   "metadata": {},
   "source": [
    "## Pipeline"
   ]
  },
  {
   "cell_type": "code",
   "execution_count": 40,
   "id": "074b8475-daeb-4b3e-8f4c-f74ba81af6f5",
   "metadata": {},
   "outputs": [],
   "source": [
    "from sklearn.preprocessing import FunctionTransformer, StandardScaler\n",
    "from sklearn.pipeline import Pipeline, FeatureUnion\n",
    "\n",
    "from sklearn.ensemble import RandomForestClassifier, GradientBoostingClassifier\n",
    "from sklearn.linear_model import LogisticRegression\n",
    "from sklearn.model_selection import GridSearchCV\n",
    "\n",
    "import warnings\n",
    "warnings.filterwarnings(\"ignore\")"
   ]
  },
  {
   "cell_type": "markdown",
   "id": "1e543274-49e0-458f-9f3a-90a7db583a30",
   "metadata": {
    "tags": []
   },
   "source": [
    "### Processing"
   ]
  },
  {
   "cell_type": "code",
   "execution_count": 30,
   "id": "c19fb46c-da89-4705-8458-abae3d4895c2",
   "metadata": {},
   "outputs": [],
   "source": [
    "#create custom function to integrate into pipeline\n",
    "\n",
    "#to replace nans with custome values\n",
    "def nanreplace(data):\n",
    "    #define replacement values and columns with null\n",
    "    replace_value = ['Male', 'No', 0, 'No', 146.412162, 360, 1] \n",
    "    null_col = data.columns[data.isnull().any()]\n",
    "    \n",
    "    for i, col in enumerate(null_col):\n",
    "            data[col] = data[col].fillna(replace_value[i])\n",
    "            \n",
    "    return data\n",
    "\n",
    "#one to drop id col\n",
    "def dropID(data):\n",
    "    X_test.loc[:,'LoanAmount'] = X_test.loc[:,'LoanAmount'].apply(pd.to_numeric, errors='coerce')\n",
    "    \n",
    "    return data.drop(['Loan_ID'], axis=1)\n",
    "\n",
    "#two for seperating out cat and int datatypes\n",
    "def numFeat(data):\n",
    "    #only return data with columns that have int/float dtypes\n",
    "    return data[data.columns[data.dtypes != 'object']]\n",
    "\n",
    "def catFeat(data):\n",
    "     #only return data with columns that have object dtype\n",
    "    return data[data.columns[data.dtypes == 'object']]"
   ]
  },
  {
   "cell_type": "code",
   "execution_count": 115,
   "id": "f135204d-5af1-4ea5-a37d-bb11b53d37b9",
   "metadata": {},
   "outputs": [],
   "source": [
    "def log_transform(data):\n",
    "    \n",
    "    log_amount = np.log(data['LoanAmount'])\n",
    "    log_income = np.log(data['ApplicantIncome'] + data['CoapplicantIncome'])\n",
    "\n",
    "    #put into df and drop former columns\n",
    "    data['LogAmount'] = log_amount\n",
    "    data['LogIncomes'] = log_income\n",
    "    \n",
    "    return data[['LogAmount', 'LogIncomes']]\n",
    "    \n",
    "\n",
    "#categorical transformation step\n",
    "def cat_transform(data):\n",
    "    #fix Dependents\n",
    "    data['Dependents'] = data['Dependents'].replace({'3+': 3})\n",
    "\n",
    "    #convert into numeric\n",
    "    data['Dependents'] = data['Dependents'].apply(pd.to_numeric, errors='coerce')\n",
    "    \n",
    "    #create list of columns to convert to dummies\n",
    "    for_dummy = ['Gender', 'Married', 'Education', 'Self_Employed', 'Property_Area']\n",
    "\n",
    "    #convert to dummy, append to original data and save as temp\n",
    "    dummy = pd.get_dummies(data[for_dummy], drop_first = True)\n",
    "    \n",
    "    #in order to handle single row inputs we have to fuss with the data frame after\n",
    "    #these are all the columns that should exist based on input data (fitted data)\n",
    "    dummy_cols = ['Gender_Male', 'Married_Yes', 'Education_Not Graduate',\n",
    "       'Self_Employed_Yes', 'Property_Area_Semiurban', 'Property_Area_Urban']\n",
    "    \n",
    "    #if we are missing any\n",
    "    if len(dummy) < 6:\n",
    "        #for every column that should be there\n",
    "        for col in dummy_cols:\n",
    "            #if its not there create column and set to 0 (false)\n",
    "            if col not in dummy.columns:\n",
    "                dummy[col] = 0\n",
    "                \n",
    "    #concatenate the dependents to dummy\n",
    "    temp = pd.concat([data['Dependents'], dummy], axis =1)\n",
    "    \n",
    "    return temp"
   ]
  },
  {
   "cell_type": "code",
   "execution_count": 116,
   "id": "0ffa4e6b-ad16-45fa-a16a-b5bd29e03e84",
   "metadata": {},
   "outputs": [],
   "source": [
    "#transform all custom functions into sklearn functions\n",
    "nan_replace = FunctionTransformer(nanreplace)\n",
    "drop_ID = FunctionTransformer(dropID)\n",
    "keep_num = FunctionTransformer(numFeat)\n",
    "keep_cat = FunctionTransformer(catFeat)\n",
    "log_trans = FunctionTransformer(log_transform)\n",
    "cat_trans = FunctionTransformer(cat_transform)"
   ]
  },
  {
   "cell_type": "code",
   "execution_count": 117,
   "id": "2582a944-f414-422c-b30a-1c0f5a3bef63",
   "metadata": {},
   "outputs": [],
   "source": [
    "#define the process steps for num and cat, seperate for each\n",
    "num_process = Pipeline([\n",
    "    ('drop_ID', drop_ID),\n",
    "    ('nans', nan_replace),  \n",
    "    ('num', keep_num),     #keep only num\n",
    "    ('transform', log_trans),\n",
    "    \n",
    "])\n",
    "\n",
    "cat_process = Pipeline([\n",
    "    ('drop_ID', drop_ID),\n",
    "    ('nans', nan_replace), \n",
    "    ('cat', keep_cat),     #keep only cat\n",
    "    ('transform', cat_trans),\n",
    "])\n",
    "\n",
    "#merge into one process step\n",
    "process = FeatureUnion([('num', num_process), ('cat', cat_process)])"
   ]
  },
  {
   "cell_type": "markdown",
   "id": "91be534b-1da6-42f3-9f7d-4555e07082b9",
   "metadata": {},
   "source": [
    "### Modeling"
   ]
  },
  {
   "cell_type": "code",
   "execution_count": 133,
   "id": "48501063-b414-48d3-82bd-25cd3f5c5eb0",
   "metadata": {},
   "outputs": [],
   "source": [
    "#create temp model object \n",
    "model = RandomForestClassifier(random_state = 1)\n",
    "\n",
    "#create full pipeline \n",
    "pipeline = Pipeline([\n",
    "    ('process', process), #unified process step\n",
    "    ('model', model) #run through model\n",
    "])"
   ]
  },
  {
   "cell_type": "code",
   "execution_count": 129,
   "id": "9babf58d-5201-4502-adb2-6a9a6530462e",
   "metadata": {},
   "outputs": [
    {
     "data": {
      "text/plain": [
       "'Test Score: 0.5853658536585366 | Train Score: 1.0'"
      ]
     },
     "execution_count": 129,
     "metadata": {},
     "output_type": "execute_result"
    }
   ],
   "source": [
    "#base model (RFC) scores with no tuning\n",
    "pipeline.fit(X_train, y_train)\n",
    "f\"Test Score: {pipeline.score(X_test, y_test)} | Train Score: {pipeline.score(X_train, y_train)}\""
   ]
  },
  {
   "cell_type": "code",
   "execution_count": 121,
   "id": "e2e6f33c-7d79-417a-8bab-44a66bc87aa5",
   "metadata": {},
   "outputs": [
    {
     "data": {
      "text/plain": [
       "array([1], dtype=uint8)"
      ]
     },
     "execution_count": 121,
     "metadata": {},
     "output_type": "execute_result"
    }
   ],
   "source": [
    "#test on single row\n",
    "pipeline.predict(X_test.iloc[[2]])"
   ]
  },
  {
   "cell_type": "code",
   "execution_count": 124,
   "id": "bee1202e-de99-4e03-80fc-3f700ebbc1ad",
   "metadata": {},
   "outputs": [],
   "source": [
    "#define params to test\n",
    "max_depths = [5, 10, 20]\n",
    "learning_rate = [0.1, 1.0, 1.2]\n",
    "max_samples = [100, 1000]\n",
    "alpha = [0, 0.5, 1, 1.5]\n",
    "max_iters = [1000, 1500]\n",
    "\n",
    "#combine\n",
    "params = [\n",
    "    {'model': [RandomForestClassifier(random_state = 1)],\n",
    "    'model__max_depth': max_depths,\n",
    "    'model__max_samples': max_samples,\n",
    "    'model__ccp_alpha': alpha\n",
    "    },\n",
    "     {'model': [GradientBoostingClassifier(random_state = 1)],\n",
    "    'model__max_depth': max_depths,\n",
    "    'model__learning_rate': learning_rate,\n",
    "    'model__ccp_alpha': alpha\n",
    "    },\n",
    "     {'model': [LogisticRegression(random_state = 1)],\n",
    "    'model__max_iter': max_iters,\n",
    "    'model__solver': ['liblinear', 'saga'],\n",
    "    'model__penalty': ['l1', 'l2']\n",
    "    }\n",
    "]"
   ]
  },
  {
   "cell_type": "code",
   "execution_count": 131,
   "id": "a7d9ffe3-b0ae-47b8-b597-231c1183e73f",
   "metadata": {},
   "outputs": [
    {
     "name": "stdout",
     "output_type": "stream",
     "text": [
      "Fitting 5 folds for each of 68 candidates, totalling 340 fits\n"
     ]
    }
   ],
   "source": [
    "#gridsearch with pipeline and params, fitted to training data\n",
    "gridsearch = GridSearchCV(pipeline, params, verbose=1).fit(X_train, y_train)"
   ]
  },
  {
   "cell_type": "code",
   "execution_count": 132,
   "id": "658cea12-20d2-4481-8113-817be3ceec77",
   "metadata": {},
   "outputs": [
    {
     "data": {
      "text/plain": [
       "'Test Score: 0.6666666666666666 | Train Score: 0.7230142566191446'"
      ]
     },
     "execution_count": 132,
     "metadata": {},
     "output_type": "execute_result"
    }
   ],
   "source": [
    "f\"Test Score: {gridsearch.score(X_test, y_test)} | Train Score: {gridsearch.score(X_train, y_train)}\""
   ]
  },
  {
   "cell_type": "code",
   "execution_count": 138,
   "id": "e10bd947-3f99-4039-912b-88f9f34c1776",
   "metadata": {},
   "outputs": [
    {
     "data": {
      "text/plain": [
       "array([[0.33223266, 0.66776734]])"
      ]
     },
     "execution_count": 138,
     "metadata": {},
     "output_type": "execute_result"
    }
   ],
   "source": [
    "#test on single row\n",
    "gridsearch.predict_proba(X_test.iloc[[2]])"
   ]
  },
  {
   "cell_type": "markdown",
   "id": "1eb1e10d-612f-4e27-bbe9-ee5d20000bd6",
   "metadata": {},
   "source": [
    "### Pickle and Upload"
   ]
  },
  {
   "cell_type": "code",
   "execution_count": 139,
   "id": "387e3a14-0c4c-4f82-8c95-0f8d76be19e0",
   "metadata": {},
   "outputs": [],
   "source": [
    "import pickle"
   ]
  },
  {
   "cell_type": "code",
   "execution_count": 143,
   "id": "c3dc1565-f4cc-43ab-bcc0-4dca03ee0020",
   "metadata": {},
   "outputs": [],
   "source": [
    "#pickle gridsearch model\n",
    "pickle_name = 'loan_model.sav'\n",
    "pickle.dump(gridsearch, open(pickle_name, 'wb'))"
   ]
  },
  {
   "cell_type": "code",
   "execution_count": 142,
   "id": "81c4228f-140f-461b-b3d4-4ea3e7fee7d9",
   "metadata": {},
   "outputs": [
    {
     "name": "stdout",
     "output_type": "stream",
     "text": [
      "[[0.33223266 0.66776734]]\n"
     ]
    }
   ],
   "source": [
    "#test it works\n",
    "loaded_model = pickle.load(open(pickle_name, 'rb'))\n",
    "result = loaded_model.predict_proba(X_test.iloc[[2]])\n",
    "print(result)"
   ]
  }
 ],
 "metadata": {
  "kernelspec": {
   "display_name": "Python 3 (ipykernel)",
   "language": "python",
   "name": "python3"
  },
  "language_info": {
   "codemirror_mode": {
    "name": "ipython",
    "version": 3
   },
   "file_extension": ".py",
   "mimetype": "text/x-python",
   "name": "python",
   "nbconvert_exporter": "python",
   "pygments_lexer": "ipython3",
   "version": "3.9.7"
  }
 },
 "nbformat": 4,
 "nbformat_minor": 5
}
